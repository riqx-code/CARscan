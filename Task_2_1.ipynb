{
  "nbformat": 4,
  "nbformat_minor": 0,
  "metadata": {
    "colab": {
      "provenance": [],
      "mount_file_id": "13Fnu_tRja5AyhoBeK_GSoK5pJdhQ_8Bh",
      "authorship_tag": "ABX9TyPz2stQuDvtcYow5x6nMLiL",
      "include_colab_link": true
    },
    "kernelspec": {
      "name": "python3",
      "display_name": "Python 3"
    },
    "language_info": {
      "name": "python"
    }
  },
  "cells": [
    {
      "cell_type": "markdown",
      "metadata": {
        "id": "view-in-github",
        "colab_type": "text"
      },
      "source": [
        "<a href=\"https://colab.research.google.com/github/riqx-code/CARscan/blob/main/Task_2_1.ipynb\" target=\"_parent\"><img src=\"https://colab.research.google.com/assets/colab-badge.svg\" alt=\"Open In Colab\"/></a>"
      ]
    },
    {
      "cell_type": "markdown",
      "source": [
        "## Package Importing"
      ],
      "metadata": {
        "id": "Ipm90pRaFOPH"
      }
    },
    {
      "cell_type": "markdown",
      "source": [
        "Tried to use kaggle API, but faced some issues so  I used **Mount Drive** and imported the downloaded data."
      ],
      "metadata": {
        "id": "kC5DHO9pHUzJ"
      }
    },
    {
      "cell_type": "markdown",
      "source": [
        "Now lets import major libraries the we will use in the classifier building"
      ],
      "metadata": {
        "id": "mYg82g9IKZL7"
      }
    },
    {
      "cell_type": "code",
      "source": [
        "# To build classifier\n",
        "import tensorflow as tf\n",
        "# ImageDataGenerator module used for image preprocessing\n",
        "from tensorflow.keras.preprocessing.image import ImageDataGenerator\n",
        "# images are stored in arrays form , so to operate on then we need a array module\n",
        "import numpy as np\n",
        "# to get image parameters I use opencv\n",
        "import cv2 as cv\n",
        "# to import subject image in google colab I need this module\n",
        "from google.colab import files\n",
        "# to show evaluvation results\n",
        "import matplotlib.pyplot as plt"
      ],
      "metadata": {
        "id": "82glFR-jHISM"
      },
      "execution_count": 3,
      "outputs": []
    },
    {
      "cell_type": "markdown",
      "source": [
        "## DATASET IMPORTING &  PREPROCESSING"
      ],
      "metadata": {
        "id": "AH4TzRA1Ni1f"
      }
    },
    {
      "cell_type": "markdown",
      "source": [
        "Now lets create **Train & Test data generator** using **ImageDataGenarator**"
      ],
      "metadata": {
        "id": "zyv_Ef1aNrea"
      }
    },
    {
      "cell_type": "code",
      "source": [
        "# we create train_data with normalisation of pixel values to float 0-1.0 by rescalling by factor 1.0/255\n",
        "train_data = ImageDataGenerator(rescale = 1.0/255)\n",
        "test_data = ImageDataGenerator(rescale = 1.0/255)"
      ],
      "metadata": {
        "id": "trAUQGIpM0bE"
      },
      "execution_count": null,
      "outputs": []
    },
    {
      "cell_type": "code",
      "source": [
        "# path of train and test(validate) folder in my colab environment \n",
        "path_train = '/content/drive/MyDrive/bcdamage/data1a/training'\n",
        "path_test = '/content/drive/MyDrive/bcdamage/data1a/validation'"
      ],
      "metadata": {
        "id": "CJSC8hTQOssr"
      },
      "execution_count": null,
      "outputs": []
    },
    {
      "cell_type": "code",
      "source": [
        "# batch_size as we have arround 1800(train) + 500(test) images lets keep it as 50 \n",
        "batch_sizes = 50\n",
        "\n",
        "#target_size is tuple of output images from preprocessors , it's arbitary \n",
        "target_sizes = (200,200)\n",
        "\n",
        "#class_mode is number of classes , here we are classifing into damaged or not so it is binary\n",
        "class_modes = 'binary'"
      ],
      "metadata": {
        "id": "D-9DsYmiP4PC"
      },
      "execution_count": null,
      "outputs": []
    },
    {
      "cell_type": "markdown",
      "source": [
        "# Train & Test data generation"
      ],
      "metadata": {
        "id": "MmljWeurszEs"
      }
    },
    {
      "cell_type": "markdown",
      "source": [
        "Training data generator"
      ],
      "metadata": {
        "id": "4rVhd5FlSEIU"
      }
    },
    {
      "cell_type": "code",
      "source": [
        "train_gen = train_data.flow_from_directory('/content/drive/MyDrive/bcdamage/data1a/training',batch_size=50,class_mode='binary',target_size=(200, 200))"
      ],
      "metadata": {
        "colab": {
          "base_uri": "https://localhost:8080/"
        },
        "id": "nyci9py4RtOj",
        "outputId": "b7e2bc0f-8ea1-4c3a-ddf8-9f727896a43d"
      },
      "execution_count": null,
      "outputs": [
        {
          "output_type": "stream",
          "name": "stdout",
          "text": [
            "Found 1840 images belonging to 2 classes.\n"
          ]
        }
      ]
    },
    {
      "cell_type": "markdown",
      "source": [
        "Testing data generator"
      ],
      "metadata": {
        "id": "bbpFdhGQTDMK"
      }
    },
    {
      "cell_type": "code",
      "source": [
        "test_gen =  test_data.flow_from_directory('/content/drive/MyDrive/bcdamage/data1a/validation',batch_size=50,class_mode='binary',target_size=(200,200))"
      ],
      "metadata": {
        "colab": {
          "base_uri": "https://localhost:8080/"
        },
        "id": "fTOiBL-MSKok",
        "outputId": "e5a3e90f-5eac-487d-b60d-2230a2840b26"
      },
      "execution_count": null,
      "outputs": [
        {
          "output_type": "stream",
          "name": "stdout",
          "text": [
            "Found 460 images belonging to 2 classes.\n"
          ]
        }
      ]
    },
    {
      "cell_type": "markdown",
      "source": [
        "# MODEL CREATION"
      ],
      "metadata": {
        "id": "LzQo2d2oTotg"
      }
    },
    {
      "cell_type": "markdown",
      "source": [
        "\n",
        "\n",
        "1.   CONVOLUTION LAYER : it's the filter that extracts the feature from a image\n",
        "2.   Max pooling : This process helps us in considering only pixels that sustained(enought activation value) after convolution.\n",
        "\n",
        "So we use **CONVOLUTION LAYER** and **Max Pooling layer** as pair.\n",
        "\n",
        "We are going to use 3 pairs of CONV2D and Max_pooling layers in hidden layers.Then a **flatenning layer** then we try to converg all the outputs using two **dense layers**.\n",
        "\n"
      ],
      "metadata": {
        "id": "cdhDHvnP4K_m"
      }
    },
    {
      "cell_type": "markdown",
      "source": [
        "***Layer Parameters***\n",
        "\n",
        "\n",
        "1.   Convolution layer 1 :\n",
        "          Kernal size = 16 x 16 \n",
        "          strides = 3,3\n",
        "          relu activation\n",
        "          input = image of shape 200,200,3 : RGB\n",
        "      Pooling Layer 1:\n",
        "          size = 2,2\n",
        "\n",
        "2.   Convolution layer 2 :\n",
        "          Kernal size = 32 x 32 \n",
        "          strides = 3,3\n",
        "          relu activation\n",
        "          input = size of Max_pooling 1\n",
        "      Pooling Layer 2:\n",
        "          size = 2,2\n",
        "\n",
        "3.   Convolution layer 3 :\n",
        "          Kernal size = 64 x 64 \n",
        "          strides = 3,3\n",
        "          relu activation\n",
        "          input = size of Max_pooling 1\n",
        "      Pooling Layer 3:\n",
        "          size = 2,2\n",
        "\n",
        "4. Flatten layer :\n",
        "\n",
        "          input size = 23 x 23 x 64\n",
        "\n",
        "          output size = 33856\n",
        "\n",
        "5. Dense Layer 1 :\n",
        "\n",
        "          converges 33856 tensors output to 512 tensor outputs\n",
        "\n",
        "6. Dense Layer 2 :\n",
        "\n",
        "          converges 512 tensors output to 1 class output\n",
        "\n",
        "                  \n",
        "\n",
        "\n"
      ],
      "metadata": {
        "id": "aiyZeH156xOR"
      }
    },
    {
      "cell_type": "code",
      "source": [
        "import tensorflow as tf\n",
        "\n",
        "model = tf.keras.models.Sequential([\n",
        "    \n",
        "    tf.keras.layers.Conv2D(16, (3,3), activation='relu', input_shape=(200, 200, 3)),\n",
        "    tf.keras.layers.MaxPooling2D(2,2),\n",
        "    tf.keras.layers.Conv2D(32, (3,3), activation='relu'),\n",
        "    tf.keras.layers.MaxPooling2D(2,2), \n",
        "    tf.keras.layers.Conv2D(64, (3,3), activation='relu'), \n",
        "    tf.keras.layers.MaxPooling2D(2,2),\n",
        "    tf.keras.layers.Flatten(), \n",
        "    tf.keras.layers.Dense(512, activation='relu'), \n",
        "    tf.keras.layers.Dense(1, activation='sigmoid')  \n",
        "])"
      ],
      "metadata": {
        "id": "tCL-1X68TXLL"
      },
      "execution_count": null,
      "outputs": []
    },
    {
      "cell_type": "code",
      "source": [
        "model.summary()"
      ],
      "metadata": {
        "colab": {
          "base_uri": "https://localhost:8080/"
        },
        "id": "-bBRYahU-pEd",
        "outputId": "378c6ab8-70b8-4b47-89e8-76b7f6cd19b6"
      },
      "execution_count": null,
      "outputs": [
        {
          "output_type": "stream",
          "name": "stdout",
          "text": [
            "Model: \"sequential\"\n",
            "_________________________________________________________________\n",
            " Layer (type)                Output Shape              Param #   \n",
            "=================================================================\n",
            " conv2d_2 (Conv2D)           (None, 198, 198, 16)      448       \n",
            "                                                                 \n",
            " max_pooling2d (MaxPooling2D  (None, 99, 99, 16)       0         \n",
            " )                                                               \n",
            "                                                                 \n",
            " conv2d_3 (Conv2D)           (None, 97, 97, 32)        4640      \n",
            "                                                                 \n",
            " max_pooling2d_1 (MaxPooling  (None, 48, 48, 32)       0         \n",
            " 2D)                                                             \n",
            "                                                                 \n",
            " conv2d_4 (Conv2D)           (None, 46, 46, 64)        18496     \n",
            "                                                                 \n",
            " max_pooling2d_2 (MaxPooling  (None, 23, 23, 64)       0         \n",
            " 2D)                                                             \n",
            "                                                                 \n",
            " flatten (Flatten)           (None, 33856)             0         \n",
            "                                                                 \n",
            " dense (Dense)               (None, 512)               17334784  \n",
            "                                                                 \n",
            " dense_1 (Dense)             (None, 1)                 513       \n",
            "                                                                 \n",
            "=================================================================\n",
            "Total params: 17,358,881\n",
            "Trainable params: 17,358,881\n",
            "Non-trainable params: 0\n",
            "_________________________________________________________________\n"
          ]
        }
      ]
    },
    {
      "cell_type": "markdown",
      "source": [
        "# Model Compilation"
      ],
      "metadata": {
        "id": "atWWR05q_sx6"
      }
    },
    {
      "cell_type": "markdown",
      "source": [
        "Compiling a model is adding a few process of operation how model will train itself. Arguments for compiler\n",
        "\n",
        "1. optimizer : it helps in backtracking phase to change layer weights and biases\n",
        "\n",
        "    we can use the following optimizers :\n",
        "\n",
        "      ***SGD − Stochastic gradient descent optimizer***\n",
        "\n",
        "      ***RMSprop − RMSProp optimizer***\n",
        "\n",
        "      ***Adam − Adam optimizer***\n",
        "\n",
        "      ***Adamax − Adamax optimizer from Adam***\n",
        "\n",
        "      ***Nadam − Nesterov Adam optimizer***\n",
        "\n",
        "      I prefered Adam optimizer as it's **faster**  , **good noise reception** and **optimized** compared to other.\n",
        "\n",
        "2. Loss : It helps in calculation of error during backtracking \n",
        "\n",
        "      we have different types of loss function but for binary classification we generally prefer **Binary cross entropy**.\n",
        "\n",
        "3. Metric : \n",
        "    It's a comparision function same as Loss , but we don't use it for training but we use this for evaluvation purposes.\n",
        "      I'm using **'accuracy'** as the metric.\n"
      ],
      "metadata": {
        "id": "8OG_2th8_wW7"
      }
    },
    {
      "cell_type": "code",
      "source": [
        "model.compile(optimizer='adam',loss='binary_crossentropy',metrics = ['accuracy'])"
      ],
      "metadata": {
        "id": "2Uy5iGtH-rMp"
      },
      "execution_count": null,
      "outputs": []
    },
    {
      "cell_type": "markdown",
      "source": [
        "# Preparing the Model"
      ],
      "metadata": {
        "id": "GutXg-xcEOO3"
      }
    },
    {
      "cell_type": "markdown",
      "source": [
        "We pass the data through the CNN , Number of times of forward and backward propagation = **epoch**.\n",
        "\n",
        "steps_per_epoch : The quotient of total sample size / batch size \n",
        "\n",
        "here  1840/50 = 36\n",
        "\n",
        "for testing = 460/50 = 9"
      ],
      "metadata": {
        "id": "apnFsNSQEVRX"
      }
    },
    {
      "cell_type": "code",
      "source": [
        "history = model.fit(\n",
        "            train_gen, # pass in the training generator\n",
        "            steps_per_epoch=36,\n",
        "            epochs=15,\n",
        "            validation_data=test_gen, # pass in the validation generator\n",
        "            validation_steps=9,\n",
        "            verbose=2\n",
        "            )"
      ],
      "metadata": {
        "colab": {
          "base_uri": "https://localhost:8080/"
        },
        "id": "HQVi8Zf4G4GN",
        "outputId": "c1304f35-b9cc-4435-a75a-144ea08f3625"
      },
      "execution_count": null,
      "outputs": [
        {
          "output_type": "stream",
          "name": "stdout",
          "text": [
            "Epoch 1/15\n",
            "36/36 - 86s - loss: 0.3566 - accuracy: 0.8458 - val_loss: 0.4656 - val_accuracy: 0.7689 - 86s/epoch - 2s/step\n",
            "Epoch 2/15\n",
            "36/36 - 81s - loss: 0.2536 - accuracy: 0.9050 - val_loss: 0.4671 - val_accuracy: 0.7933 - 81s/epoch - 2s/step\n",
            "Epoch 3/15\n",
            "36/36 - 82s - loss: 0.1649 - accuracy: 0.9397 - val_loss: 0.4944 - val_accuracy: 0.8022 - 82s/epoch - 2s/step\n",
            "Epoch 4/15\n",
            "36/36 - 81s - loss: 0.0915 - accuracy: 0.9709 - val_loss: 0.5630 - val_accuracy: 0.7756 - 81s/epoch - 2s/step\n",
            "Epoch 5/15\n",
            "36/36 - 83s - loss: 0.0517 - accuracy: 0.9872 - val_loss: 0.6729 - val_accuracy: 0.7689 - 83s/epoch - 2s/step\n",
            "Epoch 6/15\n",
            "36/36 - 83s - loss: 0.0299 - accuracy: 0.9922 - val_loss: 0.7879 - val_accuracy: 0.7711 - 83s/epoch - 2s/step\n",
            "Epoch 7/15\n",
            "36/36 - 80s - loss: 0.0243 - accuracy: 0.9955 - val_loss: 0.7566 - val_accuracy: 0.7867 - 80s/epoch - 2s/step\n",
            "Epoch 8/15\n",
            "36/36 - 81s - loss: 0.0206 - accuracy: 0.9944 - val_loss: 0.8324 - val_accuracy: 0.7956 - 81s/epoch - 2s/step\n",
            "Epoch 9/15\n",
            "36/36 - 80s - loss: 0.0103 - accuracy: 0.9972 - val_loss: 0.8955 - val_accuracy: 0.7956 - 80s/epoch - 2s/step\n",
            "Epoch 10/15\n",
            "36/36 - 82s - loss: 0.0090 - accuracy: 0.9989 - val_loss: 1.0881 - val_accuracy: 0.7600 - 82s/epoch - 2s/step\n",
            "Epoch 11/15\n",
            "36/36 - 80s - loss: 0.0026 - accuracy: 1.0000 - val_loss: 1.0501 - val_accuracy: 0.7889 - 80s/epoch - 2s/step\n",
            "Epoch 12/15\n",
            "36/36 - 81s - loss: 0.0014 - accuracy: 1.0000 - val_loss: 1.0924 - val_accuracy: 0.7844 - 81s/epoch - 2s/step\n",
            "Epoch 13/15\n",
            "36/36 - 80s - loss: 7.1379e-04 - accuracy: 1.0000 - val_loss: 1.1228 - val_accuracy: 0.7778 - 80s/epoch - 2s/step\n",
            "Epoch 14/15\n",
            "36/36 - 81s - loss: 3.5197e-04 - accuracy: 1.0000 - val_loss: 1.1019 - val_accuracy: 0.7911 - 81s/epoch - 2s/step\n",
            "Epoch 15/15\n",
            "36/36 - 79s - loss: 2.5962e-04 - accuracy: 1.0000 - val_loss: 1.0961 - val_accuracy: 0.7956 - 79s/epoch - 2s/step\n"
          ]
        }
      ]
    },
    {
      "cell_type": "markdown",
      "source": [
        "# Complete Model Downloading"
      ],
      "metadata": {
        "id": "vYcp2MVKtHkY"
      }
    },
    {
      "cell_type": "code",
      "source": [
        "from tensorflow.keras.models import load_model\n",
        "\n",
        "# save whole model\n",
        "\n",
        "model.save('/content/drive/MyDrive/trained_model1/model.hdf5')\n",
        "\n",
        "#new_model = keras.models.load_model('/content/drive/MyDrive/trained_model1/model.hdf5')"
      ],
      "metadata": {
        "id": "RQM-wX7xLeHn"
      },
      "execution_count": 21,
      "outputs": []
    },
    {
      "cell_type": "code",
      "source": [
        "# weight saving\n",
        "\n",
        "model.save_weights(\"/content/drive/MyDrive/trained_model1/weights1.hdf5\")\n",
        "\n",
        "# to use this we need proper architecture\n",
        "\n",
        "# architecture saving \n",
        "\n",
        "json_string = model.to_json()\n",
        "\n",
        "with open('/content/drive/MyDrive/trained_model1/archi.json','w') as f:\n",
        "  f.write(json_string)\n",
        "\n",
        "# to open json\n",
        "path = '/content/drive/MyDrive/trained_model1/archi.json'\n",
        "with open(path,'r') as g:\n",
        "  loaded_json = g.read()\n",
        "new_model = keras.models.model_from_json(loaded_json)"
      ],
      "metadata": {
        "id": "-E1M7T9xahci"
      },
      "execution_count": 27,
      "outputs": []
    },
    {
      "cell_type": "markdown",
      "source": [
        "# Evaluvation"
      ],
      "metadata": {
        "id": "J891UnxoehtJ"
      }
    },
    {
      "cell_type": "code",
      "source": [
        "# get the metrics from history\n",
        "\n",
        "acc = history.history['accuracy']\n",
        "val_acc = history.history['val_accuracy']\n",
        "loss = history.history['loss']\n",
        "val_loss = history.history['val_loss']\n",
        "\n",
        "epochs = range(len(acc)) \n",
        "\n",
        "# plot accuracy with matplotlib\n",
        "plt.plot(epochs, acc)\n",
        "plt.plot(epochs, val_acc)\n",
        "plt.title('Accuracy in training and validation')\n",
        "plt.figure()\n",
        "\n",
        "# plot loss with matplotlib\n",
        "plt.plot(epochs, loss)\n",
        "plt.plot(epochs, val_loss)\n",
        "plt.title('Loss in training and validation')"
      ],
      "metadata": {
        "colab": {
          "base_uri": "https://localhost:8080/",
          "height": 562
        },
        "id": "Vny3MQuFcab2",
        "outputId": "8c820253-2281-4505-84f3-1a2323e121b0"
      },
      "execution_count": 30,
      "outputs": [
        {
          "output_type": "execute_result",
          "data": {
            "text/plain": [
              "Text(0.5, 1.0, 'Loss in training and validation')"
            ]
          },
          "metadata": {},
          "execution_count": 30
        },
        {
          "output_type": "display_data",
          "data": {
            "text/plain": [
              "<Figure size 432x288 with 1 Axes>"
            ],
            "image/png": "[encoded data removed]"
          },
          "metadata": {
            "needs_background": "light"
          }
        },
        {
          "output_type": "display_data",
          "data": {
            "text/plain": [
              "<Figure size 432x288 with 1 Axes>"
            ],
            "image/png": "[encoded data removed]"
          },
          "metadata": {
            "needs_background": "light"
          }
        }
      ]
    },
    {
      "cell_type": "code",
      "source": [
        "import numpy as np\n",
        "\n",
        "from google.colab import files\n",
        "from keras.preprocessing import image\n",
        "\n",
        "uploaded = files.upload()\n",
        "\n",
        "for fn in uploaded.keys():\n",
        " \n",
        "  # prediction on the uploaded image\n",
        "  path = '/content/' + fn # load the image on Colab\n",
        "  img = tf.keras.utils.load_img(path, target_size=(200, 200)) # let's use load_img to scale it \n",
        "  \n",
        "  # scaling process\n",
        "  x = tf.keras.utils.img_to_array(img)\n",
        "  x /= 255 \n",
        "  x = np.expand_dims(x, axis=0)\n",
        "  # flatten the output\n",
        "  images = np.vstack([x])\n",
        "  \n",
        "  # prediction!\n",
        "  classes = model.predict(images, batch_size=10)\n",
        "  \n",
        "  print(classes[0])\n",
        "  \n",
        "  if classes[0] > 0.5:\n",
        "    print(fn + \" not damaged!\")\n",
        "  else:\n",
        "    print(fn + \" damaged!\")"
      ],
      "metadata": {
        "colab": {
          "base_uri": "https://localhost:8080/",
          "height": 126
        },
        "id": "u64cdKFWevcG",
        "outputId": "080f01e8-a59d-4291-873f-1e863fd43294"
      },
      "execution_count": 35,
      "outputs": [
        {
          "output_type": "display_data",
          "data": {
            "text/plain": [
              "<IPython.core.display.HTML object>"
            ],
            "text/html": [
              "\n",
              "     <input type=\"file\" id=\"files-1453eeac-348a-4973-ad52-c7727370ad92\" name=\"files[]\" multiple disabled\n",
              "        style=\"border:none\" />\n",
              "     <output id=\"result-1453eeac-348a-4973-ad52-c7727370ad92\">\n",
              "      Upload widget is only available when the cell has been executed in the\n",
              "      current browser session. Please rerun this cell to enable.\n",
              "      </output>\n",
              "      <script>// Copyright 2017 Google LLC\n",
              "//\n",
              "// Licensed under the Apache License, Version 2.0 (the \"License\");\n",
              "// you may not use this file except in compliance with the License.\n",
              "// You may obtain a copy of the License at\n",
              "//\n",
              "//      http://www.apache.org/licenses/LICENSE-2.0\n",
              "//\n",
              "// Unless required by applicable law or agreed to in writing, software\n",
              "// distributed under the License is distributed on an \"AS IS\" BASIS,\n",
              "// WITHOUT WARRANTIES OR CONDITIONS OF ANY KIND, either express or implied.\n",
              "// See the License for the specific language governing permissions and\n",
              "// limitations under the License.\n",
              "\n",
              "/**\n",
              " * @fileoverview Helpers for google.colab Python module.\n",
              " */\n",
              "(function(scope) {\n",
              "function span(text, styleAttributes = {}) {\n",
              "  const element = document.createElement('span');\n",
              "  element.textContent = text;\n",
              "  for (const key of Object.keys(styleAttributes)) {\n",
              "    element.style[key] = styleAttributes[key];\n",
              "  }\n",
              "  return element;\n",
              "}\n",
              "\n",
              "// Max number of bytes which will be uploaded at a time.\n",
              "const MAX_PAYLOAD_SIZE = 100 * 1024;\n",
              "\n",
              "function _uploadFiles(inputId, outputId) {\n",
              "  const steps = uploadFilesStep(inputId, outputId);\n",
              "  const outputElement = document.getElementById(outputId);\n",
              "  // Cache steps on the outputElement to make it available for the next call\n",
              "  // to uploadFilesContinue from Python.\n",
              "  outputElement.steps = steps;\n",
              "\n",
              "  return _uploadFilesContinue(outputId);\n",
              "}\n",
              "\n",
              "// This is roughly an async generator (not supported in the browser yet),\n",
              "// where there are multiple asynchronous steps and the Python side is going\n",
              "// to poll for completion of each step.\n",
              "// This uses a Promise to block the python side on completion of each step,\n",
              "// then passes the result of the previous step as the input to the next step.\n",
              "function _uploadFilesContinue(outputId) {\n",
              "  const outputElement = document.getElementById(outputId);\n",
              "  const steps = outputElement.steps;\n",
              "\n",
              "  const next = steps.next(outputElement.lastPromiseValue);\n",
              "  return Promise.resolve(next.value.promise).then((value) => {\n",
              "    // Cache the last promise value to make it available to the next\n",
              "    // step of the generator.\n",
              "    outputElement.lastPromiseValue = value;\n",
              "    return next.value.response;\n",
              "  });\n",
              "}\n",
              "\n",
              "/**\n",
              " * Generator function which is called between each async step of the upload\n",
              " * process.\n",
              " * @param {string} inputId Element ID of the input file picker element.\n",
              " * @param {string} outputId Element ID of the output display.\n",
              " * @return {!Iterable<!Object>} Iterable of next steps.\n",
              " */\n",
              "function* uploadFilesStep(inputId, outputId) {\n",
              "  const inputElement = document.getElementById(inputId);\n",
              "  inputElement.disabled = false;\n",
              "\n",
              "  const outputElement = document.getElementById(outputId);\n",
              "  outputElement.innerHTML = '';\n",
              "\n",
              "  const pickedPromise = new Promise((resolve) => {\n",
              "    inputElement.addEventListener('change', (e) => {\n",
              "      resolve(e.target.files);\n",
              "    });\n",
              "  });\n",
              "\n",
              "  const cancel = document.createElement('button');\n",
              "  inputElement.parentElement.appendChild(cancel);\n",
              "  cancel.textContent = 'Cancel upload';\n",
              "  const cancelPromise = new Promise((resolve) => {\n",
              "    cancel.onclick = () => {\n",
              "      resolve(null);\n",
              "    };\n",
              "  });\n",
              "\n",
              "  // Wait for the user to pick the files.\n",
              "  const files = yield {\n",
              "    promise: Promise.race([pickedPromise, cancelPromise]),\n",
              "    response: {\n",
              "      action: 'starting',\n",
              "    }\n",
              "  };\n",
              "\n",
              "  cancel.remove();\n",
              "\n",
              "  // Disable the input element since further picks are not allowed.\n",
              "  inputElement.disabled = true;\n",
              "\n",
              "  if (!files) {\n",
              "    return {\n",
              "      response: {\n",
              "        action: 'complete',\n",
              "      }\n",
              "    };\n",
              "  }\n",
              "\n",
              "  for (const file of files) {\n",
              "    const li = document.createElement('li');\n",
              "    li.append(span(file.name, {fontWeight: 'bold'}));\n",
              "    li.append(span(\n",
              "        `(${file.type || 'n/a'}) - ${file.size} bytes, ` +\n",
              "        `last modified: ${\n",
              "            file.lastModifiedDate ? file.lastModifiedDate.toLocaleDateString() :\n",
              "                                    'n/a'} - `));\n",
              "    const percent = span('0% done');\n",
              "    li.appendChild(percent);\n",
              "\n",
              "    outputElement.appendChild(li);\n",
              "\n",
              "    const fileDataPromise = new Promise((resolve) => {\n",
              "      const reader = new FileReader();\n",
              "      reader.onload = (e) => {\n",
              "        resolve(e.target.result);\n",
              "      };\n",
              "      reader.readAsArrayBuffer(file);\n",
              "    });\n",
              "    // Wait for the data to be ready.\n",
              "    let fileData = yield {\n",
              "      promise: fileDataPromise,\n",
              "      response: {\n",
              "        action: 'continue',\n",
              "      }\n",
              "    };\n",
              "\n",
              "    // Use a chunked sending to avoid message size limits. See b/62115660.\n",
              "    let position = 0;\n",
              "    do {\n",
              "      const length = Math.min(fileData.byteLength - position, MAX_PAYLOAD_SIZE);\n",
              "      const chunk = new Uint8Array(fileData, position, length);\n",
              "      position += length;\n",
              "\n",
              "      const base64 = btoa(String.fromCharCode.apply(null, chunk));\n",
              "      yield {\n",
              "        response: {\n",
              "          action: 'append',\n",
              "          file: file.name,\n",
              "          data: base64,\n",
              "        },\n",
              "      };\n",
              "\n",
              "      let percentDone = fileData.byteLength === 0 ?\n",
              "          100 :\n",
              "          Math.round((position / fileData.byteLength) * 100);\n",
              "      percent.textContent = `${percentDone}% done`;\n",
              "\n",
              "    } while (position < fileData.byteLength);\n",
              "  }\n",
              "\n",
              "  // All done.\n",
              "  yield {\n",
              "    response: {\n",
              "      action: 'complete',\n",
              "    }\n",
              "  };\n",
              "}\n",
              "\n",
              "scope.google = scope.google || {};\n",
              "scope.google.colab = scope.google.colab || {};\n",
              "scope.google.colab._files = {\n",
              "  _uploadFiles,\n",
              "  _uploadFilesContinue,\n",
              "};\n",
              "})(self);\n",
              "</script> "
            ]
          },
          "metadata": {}
        },
        {
          "output_type": "stream",
          "name": "stdout",
          "text": [
            "Saving ncar2.jpg to ncar2.jpg\n",
            "1/1 [==============================] - 0s 40ms/step\n",
            "[1.]\n",
            "ncar2.jpg not damaged!\n"
          ]
        }
      ]
    }
  ]
}